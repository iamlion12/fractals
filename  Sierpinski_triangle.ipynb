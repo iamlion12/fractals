{
 "cells": [
  {
   "cell_type": "code",
   "execution_count": 7,
   "metadata": {
    "collapsed": true
   },
   "outputs": [],
   "source": [
    "import cv2\n",
    "import numpy as np\n",
    "from random import randint"
   ]
  },
  {
   "cell_type": "code",
   "execution_count": 17,
   "metadata": {
    "collapsed": true
   },
   "outputs": [],
   "source": [
    "img = np.zeros((512,512,3), np.uint8)\n",
    "\n",
    "img[:,:,0] = 16\n",
    "img[:,:,1] = 21\n",
    "img[:,:,2] = 25\n",
    "\n",
    "a, b, c = (250,20), (50,350) ,(492,350)\n",
    "\n",
    "color = (232,229,213)\n",
    "\n",
    "cv2.circle(img,a,1,color,-1)\n",
    "cv2.circle(img,b,1,color,-1)\n",
    "cv2.circle(img,c,1,color,-1)\n",
    "\n",
    "current_pos = a\n",
    "\n",
    "cv2.circle(img,current_pos,1,color,-1)\n",
    "\n",
    "cv2.namedWindow('image')"
   ]
  },
  {
   "cell_type": "code",
   "execution_count": 18,
   "metadata": {
    "collapsed": true
   },
   "outputs": [],
   "source": [
    "def new_point(target, point):\n",
    "    return (point[0]+(target[0]-point[0])//2, point[1]+(target[1]-point[1])//2)"
   ]
  },
  {
   "cell_type": "code",
   "execution_count": null,
   "metadata": {},
   "outputs": [],
   "source": [
    "while(1):\n",
    "    cv2.imshow('image',img)\n",
    "    \n",
    "    random = randint(1,6)\n",
    "    \n",
    "    if random == 1 or random == 2:\n",
    "        current_pos = new_point(a, current_pos)\n",
    "        cv2.circle(img,current_pos,2,color,-1)\n",
    "        \n",
    "    if random == 3 or random == 4:\n",
    "        current_pos = new_point(b, current_pos)\n",
    "        cv2.circle(img,current_pos,2,color,-1)\n",
    "        \n",
    "    if random == 5 or random == 6:\n",
    "        current_pos = new_point(c, current_pos)\n",
    "        cv2.circle(img,current_pos,2,color,-1)\n",
    "        \n",
    "    if cv2.waitKey(20) & 0xFF == 27:\n",
    "        break\n",
    "        \n",
    "cv2.destroyAllWindows()"
   ]
  }
 ],
 "metadata": {
  "kernelspec": {
   "display_name": "Python 3",
   "language": "python",
   "name": "python3"
  },
  "language_info": {
   "codemirror_mode": {
    "name": "ipython",
    "version": 3
   },
   "file_extension": ".py",
   "mimetype": "text/x-python",
   "name": "python",
   "nbconvert_exporter": "python",
   "pygments_lexer": "ipython3",
   "version": "3.6.3"
  }
 },
 "nbformat": 4,
 "nbformat_minor": 2
}
